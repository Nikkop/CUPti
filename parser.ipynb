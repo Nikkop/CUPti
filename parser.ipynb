{
 "cells": [
  {
   "cell_type": "code",
   "execution_count": 1,
   "metadata": {},
   "outputs": [
    {
     "name": "stderr",
     "output_type": "stream",
     "text": [
      "[nltk_data] Downloading package wordnet to\n",
      "[nltk_data]     C:\\Users\\wwwri\\AppData\\Roaming\\nltk_data...\n",
      "[nltk_data]   Package wordnet is already up-to-date!\n",
      "[nltk_data] Downloading package punkt to\n",
      "[nltk_data]     C:\\Users\\wwwri\\AppData\\Roaming\\nltk_data...\n",
      "[nltk_data]   Package punkt is already up-to-date!\n",
      "[nltk_data] Downloading package averaged_perceptron_tagger to\n",
      "[nltk_data]     C:\\Users\\wwwri\\AppData\\Roaming\\nltk_data...\n",
      "[nltk_data]   Package averaged_perceptron_tagger is already up-to-\n",
      "[nltk_data]       date!\n"
     ]
    }
   ],
   "source": [
    "import pandas as pd   \n",
    "import funcs"
   ]
  },
  {
   "cell_type": "code",
   "execution_count": 2,
   "metadata": {},
   "outputs": [],
   "source": [
    "# pd.set_option('display.max_columns', None)  # or 1000\n",
    "# pd.set_option('display.max_rows', None)  # or 1000\n",
    "#pd.set_option('display.max_colwidth', 170)  # or 199\n",
    "# pd.reset_option('display.max_columns')\n",
    "# pd.reset_option('display.max_rows')\n",
    "#pd.reset_option('display.max_colwidth')\n",
    "pd.options.display.expand_frame_repr = False"
   ]
  },
  {
   "cell_type": "code",
   "execution_count": 3,
   "metadata": {},
   "outputs": [],
   "source": [
    "#Load data from jsonl\n",
    "jsonObj = pd.read_json(path_or_buf=\"data/ranking_train.jsonl\", lines=True)\n",
    "\n",
    "#initialization\n",
    "zero_score = []\n",
    "df = {\"text\":[], \"comments\":[], \"lem_comments\":[], \"score\":[]}\n",
    "text_ar = []\n",
    "comment_ar = []\n",
    "score_ar = []\n",
    "lem_com_ar = []"
   ]
  },
  {
   "cell_type": "code",
   "execution_count": null,
   "metadata": {},
   "outputs": [],
   "source": [
    "#Writing text, comments, scores into arrays and making them in lowercase, lemmatization\n",
    "for i in range(0, len(jsonObj)):\n",
    "    for j in range(0, 5):\n",
    "        text_ar.append(jsonObj['text'][i].lower())\n",
    "        comment_ar.append(jsonObj[\"comments\"][i][j]['text'].lower())\n",
    "        lem_com_ar.append(funcs.lemmatizer_func(jsonObj[\"comments\"][i][j]['text'].lower()))\n",
    "        #lem_com_ar.append(funcs.text_preprocessing(jsonObj[\"comments\"][i][j]['text'].lower()))\n",
    "        score_ar.append(jsonObj['comments'][i][j]['score'])"
   ]
  },
  {
   "cell_type": "code",
   "execution_count": null,
   "metadata": {},
   "outputs": [],
   "source": [
    "#Creating dictionary of values for pandas df\n",
    "data_dict = {\"text\":text_ar, \"comment\":comment_ar, \"lem_comments\":lem_com_ar, \"score\":score_ar}\n",
    "\n",
    "#Creating pandas df\n",
    "df = pd.DataFrame(data_dict)\n",
    "print(df[['comment', 'lem_comments']])"
   ]
  },
  {
   "cell_type": "code",
   "execution_count": null,
   "metadata": {},
   "outputs": [],
   "source": [
    "funcs.lemmatizer_func('http:/')"
   ]
  }
 ],
 "metadata": {
  "kernelspec": {
   "display_name": "Python 3 (ipykernel)",
   "language": "python",
   "name": "python3"
  },
  "language_info": {
   "codemirror_mode": {
    "name": "ipython",
    "version": 3
   },
   "file_extension": ".py",
   "mimetype": "text/x-python",
   "name": "python",
   "nbconvert_exporter": "python",
   "pygments_lexer": "ipython3",
   "version": "3.9.16"
  }
 },
 "nbformat": 4,
 "nbformat_minor": 4
}
