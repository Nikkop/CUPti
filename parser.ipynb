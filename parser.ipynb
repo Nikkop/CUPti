{
 "cells": [
  {
   "cell_type": "code",
   "execution_count": 1,
   "metadata": {},
   "outputs": [
    {
     "name": "stderr",
     "output_type": "stream",
     "text": [
      "[nltk_data] Downloading package wordnet to\n",
      "[nltk_data]     C:\\Users\\wwwri\\AppData\\Roaming\\nltk_data...\n",
      "[nltk_data]   Package wordnet is already up-to-date!\n",
      "[nltk_data] Downloading package punkt to\n",
      "[nltk_data]     C:\\Users\\wwwri\\AppData\\Roaming\\nltk_data...\n",
      "[nltk_data]   Package punkt is already up-to-date!\n",
      "[nltk_data] Downloading package averaged_perceptron_tagger to\n",
      "[nltk_data]     C:\\Users\\wwwri\\AppData\\Roaming\\nltk_data...\n",
      "[nltk_data]   Package averaged_perceptron_tagger is already up-to-\n",
      "[nltk_data]       date!\n"
     ]
    }
   ],
   "source": [
    "import pandas as pd   \n",
    "import funcs\n",
    "import re\n",
    "from tqdm import tqdm\n",
    "import seaborn as sns\n",
    "from nltk.probability import FreqDist"
   ]
  },
  {
   "cell_type": "code",
   "execution_count": 4,
   "metadata": {},
   "outputs": [],
   "source": [
    "#function for initial removing links or other things which has similar construction\n",
    "def prepare(stringy):\n",
    "    return re.sub(r'\\w+:\\/{2}[\\d\\w-]+(\\.[\\d\\w-]+)*(?:(?:\\/[^\\s/]*))*', ' ', stringy.lower())\n",
    "\n",
    "#sav_path = 'data/arr_train.csv'\n",
    "read_path = 'data/arr_test.csv'\n",
    "#lod_path = 'data/ranking_train.jsonl'\n",
    "lod_path = 'data/ranking_test.jsonl'"
   ]
  },
  {
   "cell_type": "code",
   "execution_count": 5,
   "metadata": {},
   "outputs": [],
   "source": [
    "# pd.set_option('display.max_columns', None)  # or 1000\n",
    "# pd.set_option('display.max_rows', None)  # or 1000\n",
    "#pd.set_option('display.max_colwidth', 170)  # or 199\n",
    "# pd.reset_option('display.max_columns')\n",
    "# pd.reset_option('display.max_rows')\n",
    "#pd.reset_option('display.max_colwidth')\n",
    "pd.options.display.expand_frame_repr = False"
   ]
  },
  {
   "cell_type": "code",
   "execution_count": 6,
   "metadata": {},
   "outputs": [],
   "source": [
    "#Load data from jsonl\n",
    "jsonObj = pd.read_json(path_or_buf=read_path, lines=True)\n",
    "#initialization\n",
    "zero_score = []\n",
    "df = {\"text\":[], \"comments\":[], \"lem_comments\":[], \"score\":[]}\n",
    "text_ar = []\n",
    "comment_ar = []\n",
    "score_ar = []\n",
    "lem_text_ar = []\n",
    "lem_com_ar = []"
   ]
  },
  {
   "cell_type": "code",
   "execution_count": 7,
   "metadata": {},
   "outputs": [
    {
     "name": "stderr",
     "output_type": "stream",
     "text": [
      "100%|██████████| 14004/14004 [04:56<00:00, 47.29it/s]\n"
     ]
    }
   ],
   "source": [
    "#Writing text, comments, scores into arrays and making them in lowercase, lemmatization\n",
    "#len(jsonObj)\n",
    "for i in tqdm(range(0,len(jsonObj))):\n",
    "    for j in range(0, 5):\n",
    "        text_ar.append(jsonObj['text'][i].lower())\n",
    "        raw_text = prepare(jsonObj['text'][i])\n",
    "        lem_text_ar.append(funcs.lemmatizer_func(raw_text)) \n",
    "        comment_ar.append(jsonObj[\"comments\"][i][j]['text'].lower())\n",
    "        raw_com = prepare(jsonObj[\"comments\"][i][j]['text'])\n",
    "        lem_com_ar.append(funcs.lemmatizer_func(raw_com))\n",
    "        #lem_com_ar.append(funcs.text_preprocessing(raw_com))\n",
    "        score_ar.append(jsonObj['comments'][i][j]['score'])"
   ]
  },
  {
   "cell_type": "code",
   "execution_count": 8,
   "metadata": {},
   "outputs": [
    {
     "name": "stdout",
     "output_type": "stream",
     "text": [
      "                                                    text                                 lem_text\n",
      "0      ios 8.0.1 released, broken on iphone 6 models,...  io release break iphone model withdrawn\n",
      "1      ios 8.0.1 released, broken on iphone 6 models,...  io release break iphone model withdrawn\n",
      "2      ios 8.0.1 released, broken on iphone 6 models,...  io release break iphone model withdrawn\n",
      "3      ios 8.0.1 released, broken on iphone 6 models,...  io release break iphone model withdrawn\n",
      "4      ios 8.0.1 released, broken on iphone 6 models,...  io release break iphone model withdrawn\n",
      "...                                                  ...                                      ...\n",
      "70015                     why does gmail hate my domain?                        gmail hate domain\n",
      "70016                     why does gmail hate my domain?                        gmail hate domain\n",
      "70017                     why does gmail hate my domain?                        gmail hate domain\n",
      "70018                     why does gmail hate my domain?                        gmail hate domain\n",
      "70019                     why does gmail hate my domain?                        gmail hate domain\n",
      "\n",
      "[70020 rows x 2 columns]\n"
     ]
    }
   ],
   "source": [
    "#Creating dictionary of values for pandas df\n",
    "data_dict = {\"text\":text_ar, \"lem_text\":lem_text_ar, \"comment\":comment_ar,\n",
    "    \"lem_comments\":lem_com_ar, \"score\":score_ar}\n",
    "\n",
    "#Creating pandas df\n",
    "df = pd.DataFrame(data_dict)\n",
    "df.fillna('')\n",
    "\n",
    "print(df[['text', 'lem_text']])"
   ]
  },
  {
   "cell_type": "code",
   "execution_count": 9,
   "metadata": {},
   "outputs": [
    {
     "data": {
      "text/plain": [
       "<Axes: >"
      ]
     },
     "execution_count": 9,
     "metadata": {},
     "output_type": "execute_result"
    },
    {
     "data": {
      "image/png": "[encoded data removed]",
      "text/plain": [
       "<Figure size 640x480 with 1 Axes>"
      ]
     },
     "metadata": {},
     "output_type": "display_data"
    }
   ],
   "source": [
    "# сheck for most encounter words.\n",
    "corpus = [word for i in df[\"lem_comments\"].str.split().values.tolist() for word in i]\n",
    "most_common = FreqDist(corpus).most_common(30)\n",
    "words, frequency = [], []\n",
    "\n",
    "for word, count in most_common:\n",
    "    words.append(word)\n",
    "    frequency.append(count)\n",
    "    \n",
    "sns.barplot(x = frequency, y = words)"
   ]
  },
  {
   "cell_type": "code",
   "execution_count": null,
   "metadata": {},
   "outputs": [],
   "source": [
    "a = FreqDist(corpus).most_common()\n",
    "print(a[-1])"
   ]
  },
  {
   "cell_type": "code",
   "execution_count": 12,
   "metadata": {},
   "outputs": [],
   "source": [
    "df.to_csv(sav_path)"
   ]
  },
  {
   "cell_type": "code",
   "execution_count": null,
   "metadata": {},
   "outputs": [],
   "source": [
    "df.read_csv(read_path)"
   ]
  }
 ],
 "metadata": {
  "kernelspec": {
   "display_name": "Python 3 (ipykernel)",
   "language": "python",
   "name": "python3"
  },
  "language_info": {
   "codemirror_mode": {
    "name": "ipython",
    "version": 3
   },
   "file_extension": ".py",
   "mimetype": "text/x-python",
   "name": "python",
   "nbconvert_exporter": "python",
   "pygments_lexer": "ipython3",
   "version": "3.9.16"
  }
 },
 "nbformat": 4,
 "nbformat_minor": 4
}
