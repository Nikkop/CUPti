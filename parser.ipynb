{
 "cells": [
  {
   "cell_type": "code",
   "execution_count": 1,
   "metadata": {},
   "outputs": [
    {
     "name": "stderr",
     "output_type": "stream",
     "text": [
      "[nltk_data] Downloading package wordnet to\n",
      "[nltk_data]     C:\\Users\\user\\AppData\\Roaming\\nltk_data...\n",
      "[nltk_data]   Package wordnet is already up-to-date!\n",
      "[nltk_data] Downloading package punkt to\n",
      "[nltk_data]     C:\\Users\\user\\AppData\\Roaming\\nltk_data...\n",
      "[nltk_data]   Package punkt is already up-to-date!\n"
     ]
    }
   ],
   "source": [
    "import pandas as pd   \n",
    "from statistics import mean\n",
    "import funcs"
   ]
  },
  {
   "cell_type": "code",
   "execution_count": 6,
   "metadata": {},
   "outputs": [],
   "source": [
    "# pd.set_option('display.max_columns', None)  # or 1000\n",
    "# pd.set_option('display.max_rows', None)  # or 1000\n",
    "# pd.set_option('display.max_colwidth', None)  # or 199\n",
    "# pd.reset_option('display.max_columns')\n",
    "# pd.reset_option('display.max_rows')\n",
    "# pd.reset_option('display.max_colwidth')\n",
    "pd.options.display.expand_frame_repr = False"
   ]
  },
  {
   "cell_type": "code",
   "execution_count": 3,
   "metadata": {},
   "outputs": [],
   "source": [
    "#Load data from jsonl\n",
    "jsonObj = pd.read_json(path_or_buf=\"data/ranking_train.jsonl\", lines=True)\n",
    "\n",
    "#initialization\n",
    "four_score = []\n",
    "three_score = []\n",
    "two_score = []\n",
    "one_score = []\n",
    "zero_score = []\n",
    "df = {\"text\":[], \"comments\":[], \"lem_comments\":[], \"score\":[]}\n",
    "text_ar = []\n",
    "comment_ar = []\n",
    "score_ar = []\n",
    "lem_com_ar = []"
   ]
  },
  {
   "cell_type": "code",
   "execution_count": 4,
   "metadata": {},
   "outputs": [],
   "source": [
    "#Writing text, comments, scores into arrays and making them in lowercase\n",
    "#len(jsonObj)\n",
    "for i in range(0, 100):\n",
    "    for j in range(0,5):\n",
    "        #funcs.lemmatizer(jsonObj['text'][i].lower())\n",
    "        \n",
    "        text_ar.append(jsonObj['text'][i].lower())\n",
    "        comment_ar.append(jsonObj[\"comments\"][i][j]['text'].lower())\n",
    "        lem_com_ar.append(funcs.lemmatizer(jsonObj[\"comments\"][i][j]['text'].lower()))\n",
    "        score_ar.append(jsonObj['comments'][i][j]['score'])\n"
   ]
  },
  {
   "cell_type": "code",
   "execution_count": 7,
   "metadata": {},
   "outputs": [
    {
     "name": "stdout",
     "output_type": "stream",
     "text": [
      "                                                  text                                            comment                                       lem_comments  score\n",
      "0    how many summer y combinator fundees decided n...  going back to school is not identical with giv...  going back to school is not identical with giv...      0\n",
      "1    how many summer y combinator fundees decided n...  there will invariably be those who don't see t...  there will invariably be those who do n't see ...      1\n",
      "2    how many summer y combinator fundees decided n...  for me school is a way to be connected to what...  for me school is a way to be connected to what...      2\n",
      "3    how many summer y combinator fundees decided n...  i guess it really depends on how hungry you ar...  i guess it really depends on how hungry you ar...      3\n",
      "4    how many summer y combinator fundees decided n...  i know pollground decided to go back to school...  i know pollground decided to go back to school...      4\n",
      "..                                                 ...                                                ...                                                ...    ...\n",
      "495                         web4.0 -- the semantic web  i like the note about privacy. i believe it --...  i like the note about privacy . i believe it -...      0\n",
      "496                         web4.0 -- the semantic web  tbl has been touting the coming of a semantic ...  tbl ha been touting the coming of a semantic w...      1\n",
      "497                         web4.0 -- the semantic web  the world godin presents is definitely scary f...  the world godin present is definitely scary fo...      2\n",
      "498                         web4.0 -- the semantic web  some of the example applications he gave kick ...  some of the example application he gave kick as .      3\n",
      "499                         web4.0 -- the semantic web  ok, those were some interesting ideas, but ple...  ok , those were some interesting idea , but pl...      4\n",
      "\n",
      "[500 rows x 4 columns]\n"
     ]
    }
   ],
   "source": [
    "#Creating dictionary of values for pandas df\n",
    "data_dict = {\"text\":text_ar, \"comment\":comment_ar, \"lem_comments\":lem_com_ar, \"score\":score_ar}\n",
    "\n",
    "#Creating pandas df\n",
    "df = pd.DataFrame(data_dict)\n",
    "print(df)"
   ]
  }
 ],
 "metadata": {
  "kernelspec": {
   "display_name": "venv",
   "language": "python",
   "name": "python3"
  },
  "language_info": {
   "codemirror_mode": {
    "name": "ipython",
    "version": 3
   },
   "file_extension": ".py",
   "mimetype": "text/x-python",
   "name": "python",
   "nbconvert_exporter": "python",
   "pygments_lexer": "ipython3",
   "version": "3.10.10"
  },
  "orig_nbformat": 4
 },
 "nbformat": 4,
 "nbformat_minor": 2
}
