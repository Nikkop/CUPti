{
 "cells": [
  {
   "cell_type": "code",
   "execution_count": null,
   "metadata": {},
   "outputs": [],
   "source": [
    "import pandas as pd   \n",
    "import funcs\n",
    "import csv"
   ]
  },
  {
   "cell_type": "code",
   "execution_count": null,
   "metadata": {},
   "outputs": [],
   "source": [
    "# pd.set_option('display.max_columns', None)  # or 1000\n",
    "# pd.set_option('display.max_rows', None)  # or 1000\n",
    "#pd.set_option('display.max_colwidth', 170)  # or 199\n",
    "# pd.reset_option('display.max_columns')\n",
    "# pd.reset_option('display.max_rows')\n",
    "#pd.reset_option('display.max_colwidth')\n",
    "pd.options.display.expand_frame_repr = False"
   ]
  },
  {
   "cell_type": "code",
   "execution_count": null,
   "metadata": {},
   "outputs": [],
   "source": [
    "#Load data from jsonl\n",
    "jsonObj = pd.read_json(path_or_buf=\"data/ranking_train.jsonl\", lines=True)\n",
    "\n",
    "#initialization\n",
    "four_score = []\n",
    "three_score = []\n",
    "two_score = []\n",
    "one_score = []\n",
    "zero_score = []\n",
    "df = {\"text\":[], \"comments\":[], \"lem_comments\":[], \"score\":[]}\n",
    "text_ar = []\n",
    "comment_ar = []\n",
    "score_ar = []\n",
    "lem_com_ar = []"
   ]
  },
  {
   "cell_type": "code",
   "execution_count": null,
   "metadata": {},
   "outputs": [],
   "source": [
    "#Writing text, comments, scores into arrays and making them in lowercase, lemmatization\n",
    "#len(jsonObj)\n",
    "for i in range(0, len(jsonObj)):\n",
    "    for j in range(0, 5):\n",
    "        text_ar.append(jsonObj['text'][i].lower())\n",
    "        comment_ar.append(jsonObj[\"comments\"][i][j]['text'].lower())\n",
    "        #lem_com_ar.append(funcs.lemmatizer_func(jsonObj[\"comments\"][i][j]['text'].lower()))\n",
    "        lem_com_ar.append(funcs.text_preprocessing(jsonObj[\"comments\"][i][j]['text'].lower()))\n",
    "        score_ar.append(jsonObj['comments'][i][j]['score'])"
   ]
  },
  {
   "cell_type": "code",
   "execution_count": null,
   "metadata": {},
   "outputs": [],
   "source": [
    "#Creating dictionary of values for pandas df\n",
    "data_dict = {\"text\":text_ar, \"comment\":comment_ar, \"lem_comments\":lem_com_ar, \"score\":score_ar}\n",
    "\n",
    "#Creating pandas df\n",
    "df = pd.DataFrame(data_dict)\n",
    "print(df[['comment', 'lem_comments']])\n",
    "df.to_csv(\"data/arr_data.csv\", index=False)"
   ]
  }
 ],
 "metadata": {
  "kernelspec": {
   "display_name": "venv",
   "language": "python",
   "name": "python3"
  },
  "language_info": {
   "codemirror_mode": {
    "name": "ipython",
    "version": 3
   },
   "file_extension": ".py",
   "mimetype": "text/x-python",
   "name": "python",
   "nbconvert_exporter": "python",
   "pygments_lexer": "ipython3",
   "version": "3.10.10"
  },
  "orig_nbformat": 4
 },
 "nbformat": 4,
 "nbformat_minor": 2
}
