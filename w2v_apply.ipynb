{
 "cells": [
  {
   "cell_type": "code",
   "execution_count": 2,
   "metadata": {
    "jupyter": {
     "source_hidden": true
    },
    "tags": []
   },
   "outputs": [],
   "source": [
    "import numpy as np\n",
    "import pandas as pd\n",
    "from sklearn.feature_extraction.text import TfidfVectorizer\n",
    "import pickle\n",
    "from sklearn.preprocessing import normalize\n",
    "from sklearn.preprocessing import MinMaxScaler\n",
    "#from make_pairwise_gold_metric_scores import compute_metrics \n",
    "\n",
    "pd.set_option('max_colwidth',5000)"
   ]
  },
  {
   "cell_type": "code",
   "execution_count": 8,
   "metadata": {
    "collapsed": false,
    "jupyter": {
     "outputs_hidden": false
    }
   },
   "outputs": [],
   "source": [
    "# Load word2vec model for this specific course\n",
    "w2v_matrix = pickle.load( open( \"Models/w2v_matrix.p\", \"rb\" ) )\n",
    "vocab = np.array(pickle.load( open( \"Models/vocab_w2v.p\", \"rb\" ) ) )"
   ]
  },
  {
   "cell_type": "code",
   "execution_count": 22,
   "metadata": {},
   "outputs": [
    {
     "ename": "IndexError",
     "evalue": "invalid index to scalar variable.",
     "output_type": "error",
     "traceback": [
      "\u001b[1;31m---------------------------------------------------------------------------\u001b[0m",
      "\u001b[1;31mIndexError\u001b[0m                                Traceback (most recent call last)",
      "Cell \u001b[1;32mIn[22], line 1\u001b[0m\n\u001b[1;32m----> 1\u001b[0m \u001b[43mw2v_matrix\u001b[49m\u001b[43m[\u001b[49m\u001b[38;5;241;43m1\u001b[39;49m\u001b[43m]\u001b[49m\u001b[43m[\u001b[49m\u001b[38;5;241;43m2\u001b[39;49m\u001b[43m]\u001b[49m\u001b[43m[\u001b[49m\u001b[38;5;241;43m3\u001b[39;49m\u001b[43m]\u001b[49m\n",
      "\u001b[1;31mIndexError\u001b[0m: invalid index to scalar variable."
     ]
    }
   ],
   "source": [
    "w2v_matrix"
   ]
  },
  {
   "cell_type": "code",
   "execution_count": 7,
   "metadata": {
    "collapsed": false,
    "jupyter": {
     "outputs_hidden": false
    }
   },
   "outputs": [],
   "source": [
    "# Verify word2vec model works well (the following example should have cosine similarity near 1)\n",
    "\n",
    "# def cosinesimilarity(u, v):\n",
    "#   # u - embedding (vector)\n",
    "#   # v - embedding (vector)\n",
    "#   return np.dot(u,v) / (np.sqrt(np.dot(u, u)) * np.sqrt(np.dot(v,v)))\n",
    "# np.dot(w2v_matrix[np.where(vocab == \"queen\")[0][0]], w2v_matrix[np.where(vocab == \"king\")[0][0]] - w2v_matrix[np.where(vocab == \"man\")[0][0]] + w2v_matrix[np.where(vocab == \"woman\")[0][0]] )"
   ]
  },
  {
   "cell_type": "code",
   "execution_count": 9,
   "metadata": {
    "tags": []
   },
   "outputs": [],
   "source": [
    "test_comments = [\n",
    "  \"Jesus is great. I love Jesus and the holy book. I think God is amazing. I agree with religion\",\n",
    "  \"Jesus is great. I love Jesus and the holy book. I think God is amazing.\",\n",
    "  \"Jesus is the best. I love Jesus and the holy book. I think God is amazing. I agree with religion\",\n",
    "  \"Jesus is awesome. I love Jesus and the holy book. I think God is amazing. I agree with religion\",\n",
    "  \"Christ is great. I love Christ and the holy book. I think God is amazing. I agree with religion\",\n",
    "  \"Christ is great. I love Christ and the holy book. I agree with religion\",\n",
    "  \"Donald Trump is a president with tons of electrical equipment and lightbulbs and random things.\",\n",
    "]"
   ]
  },
  {
   "cell_type": "code",
   "execution_count": 9,
   "metadata": {
    "collapsed": true,
    "jupyter": {
     "outputs_hidden": true
    }
   },
   "outputs": [],
   "source": [
    "def embedding_tfidf(embedding_matrix, embedding_vocab, gold_data, gold_matrix, test_name):\n",
    "  # Get tfidf counts for each comment as a matrix C with shape (# comments, size of w2v (embedding) vocab)\n",
    "  vec = TfidfVectorizer(vocabulary=embedding_vocab, stop_words='english')\n",
    "  C = vec.fit_transform(gold_data.body.values)\n",
    "\n",
    "  # Compute tfidf bag of words for each comment as matrix A with shape (#comments, embedding dimension)\n",
    "  A = C.dot(embedding_matrix)\n",
    "  A = normalize(A, norm='l2')\n",
    "\n",
    "  # Verify that each row of A is normalized (unit vector l2-norm)\n",
    "  assert(abs(sum(np.sum(np.abs(A)**2,axis=-1)**(1./2)) / len(A) - 1.0) < 0.0001) # Should be close to 1.0\n",
    "\n",
    "  # We compute pairwise cosine similarity with dot product since A is normalized.\n",
    "  pairwise_cosine_similarity = np.dot(A, A.transpose())\n",
    "  pairwise_cosine_similarity = MinMaxScaler().fit_transform(pairwise_cosine_similarity)\n",
    "\n",
    "  # Compute avg consine similarity for same cluster comments and different cluster topics and subtract.\n",
    "  same_cluster_avg_score = np.multiply(pairwise_cosine_similarity, gold_matrix).values.sum() / gold_matrix.values.sum()\n",
    "  diff_cluster_avg_score = np.multiply(pairwise_cosine_similarity, 1-gold_matrix).values.sum() / (1-gold_matrix).values.sum()\n",
    "  print(test_name, \"score:\", same_cluster_avg_score, \"-\", diff_cluster_avg_score, \"=\", same_cluster_avg_score - diff_cluster_avg_score)\n",
    "  \n",
    "  return pairwise_cosine_similarity"
   ]
  },
  {
   "cell_type": "code",
   "execution_count": 10,
   "metadata": {
    "collapsed": false,
    "jupyter": {
     "outputs_hidden": false
    }
   },
   "outputs": [
    {
     "name": "stdout",
     "output_type": "stream",
     "text": [
      "Train score: 0.567915692812 - 0.513427819284 = 0.0544878735283\n"
     ]
    }
   ],
   "source": [
    "# Load gold train data\n",
    "gold_matrix_train = pd.read_csv('gold_matrix_train_HarvardX__HDS_3221_2X__1T2016.csv.gz', compression='gzip')\n",
    "df_gold_train = pd.read_csv('gold_data_train_HarvardX__HDS_3221_2X__1T2016.csv.gz', compression='gzip')\n",
    "pairwise_cosine_similarity_train = embedding_tfidf(w2v_matrix, vocab, df_gold_train, gold_matrix_train, \"Train\")"
   ]
  },
  {
   "cell_type": "code",
   "execution_count": 11,
   "metadata": {
    "collapsed": false,
    "jupyter": {
     "outputs_hidden": false
    }
   },
   "outputs": [
    {
     "name": "stdout",
     "output_type": "stream",
     "text": [
      "Test score: 0.585525126153 - 0.525324585547 = 0.0602005406061\n"
     ]
    }
   ],
   "source": [
    "# Load gold data\n",
    "gold_matrix_test = pd.read_csv('gold_matrix_test_HarvardX__HDS_3221_2X__1T2016.csv.gz', compression='gzip')\n",
    "df_gold_test = pd.read_csv('gold_data_test_HarvardX__HDS_3221_2X__1T2016.csv.gz', compression='gzip')\n",
    "pairwise_cosine_similarity_test =embedding_tfidf(w2v_matrix, vocab, df_gold_test, gold_matrix_test, \"Test\")"
   ]
  },
  {
   "cell_type": "code",
   "execution_count": 12,
   "metadata": {
    "collapsed": false,
    "jupyter": {
     "outputs_hidden": false
    }
   },
   "outputs": [
    {
     "name": "stdout",
     "output_type": "stream",
     "text": [
      "Median Quantile (Rank) Difference score: 0.671363553268 - 0.466419832811 = 0.204943720457\n",
      "Pairwise Binary Logistic Regression Accuracy score: 0.815278216339\n",
      "\n",
      "The next test uses parameter optimization over a random forest\n",
      "classifier's parameters and may take 30s to 2 min to run.\n",
      "\n",
      "Pairwise Binary Random Forest Accuracy score: 0.816372705668\n"
     ]
    },
    {
     "data": {
      "text/html": [
       "<div>\n",
       "<table border=\"1\" class=\"dataframe\">\n",
       "  <thead>\n",
       "    <tr style=\"text-align: right;\">\n",
       "      <th></th>\n",
       "      <th>Score</th>\n",
       "    </tr>\n",
       "  </thead>\n",
       "  <tbody>\n",
       "    <tr>\n",
       "      <th>logreg_acc_pairwise_binary</th>\n",
       "      <td>0.815278</td>\n",
       "    </tr>\n",
       "    <tr>\n",
       "      <th>median_quantile_diff</th>\n",
       "      <td>0.204944</td>\n",
       "    </tr>\n",
       "    <tr>\n",
       "      <th>random_forest_acc_pairwise_binary</th>\n",
       "      <td>0.816373</td>\n",
       "    </tr>\n",
       "  </tbody>\n",
       "</table>\n",
       "</div>"
      ],
      "text/plain": [
       "                                      Score\n",
       "logreg_acc_pairwise_binary         0.815278\n",
       "median_quantile_diff               0.204944\n",
       "random_forest_acc_pairwise_binary  0.816373"
      ]
     },
     "execution_count": 12,
     "metadata": {},
     "output_type": "execute_result"
    }
   ],
   "source": [
    "metrics = compute_metrics(pairwise_cosine_similarity_train, pairwise_cosine_similarity_test, gold_matrix_train, df_gold_train, gold_matrix_test, df_gold_test)\n",
    "pretty_metrics = pd.DataFrame(pd.Series(metrics), columns = [\"Score\"])\n",
    "pretty_metrics"
   ]
  },
  {
   "cell_type": "code",
   "execution_count": 13,
   "metadata": {
    "collapsed": false,
    "jupyter": {
     "outputs_hidden": false
    }
   },
   "outputs": [
    {
     "name": "stdout",
     "output_type": "stream",
     "text": [
      "Median Quantile (Rank) Difference score: 0.638136071736 - 0.468070575925 = 0.170065495812\n",
      "Pairwise Binary Logistic Regression Accuracy score: 0.787785281487\n",
      "\n",
      "The next test uses parameter optimization over a random forest\n",
      "classifier's parameters and may take 30s to 2 min to run.\n",
      "\n",
      "Pairwise Binary Random Forest Accuracy score: 0.779643632332\n"
     ]
    },
    {
     "data": {
      "text/html": [
       "<div>\n",
       "<table border=\"1\" class=\"dataframe\">\n",
       "  <thead>\n",
       "    <tr style=\"text-align: right;\">\n",
       "      <th></th>\n",
       "      <th>Score</th>\n",
       "    </tr>\n",
       "  </thead>\n",
       "  <tbody>\n",
       "    <tr>\n",
       "      <th>logreg_acc_pairwise_binary</th>\n",
       "      <td>0.787785</td>\n",
       "    </tr>\n",
       "    <tr>\n",
       "      <th>median_quantile_diff</th>\n",
       "      <td>0.170065</td>\n",
       "    </tr>\n",
       "    <tr>\n",
       "      <th>random_forest_acc_pairwise_binary</th>\n",
       "      <td>0.779644</td>\n",
       "    </tr>\n",
       "  </tbody>\n",
       "</table>\n",
       "</div>"
      ],
      "text/plain": [
       "                                      Score\n",
       "logreg_acc_pairwise_binary         0.787785\n",
       "median_quantile_diff               0.170065\n",
       "random_forest_acc_pairwise_binary  0.779644"
      ]
     },
     "execution_count": 13,
     "metadata": {},
     "output_type": "execute_result"
    }
   ],
   "source": [
    "# Switching train and test\n",
    "\n",
    "metrics = compute_metrics(pairwise_cosine_similarity_test, pairwise_cosine_similarity_train, gold_matrix_test, df_gold_test, gold_matrix_train, df_gold_train)\n",
    "pretty_metrics = pd.DataFrame(pd.Series(metrics), columns = [\"Score\"])\n",
    "pretty_metrics"
   ]
  },
  {
   "cell_type": "code",
   "execution_count": null,
   "metadata": {
    "collapsed": true,
    "jupyter": {
     "outputs_hidden": true
    }
   },
   "outputs": [],
   "source": []
  }
 ],
 "metadata": {
  "kernelspec": {
   "display_name": "Python 3 (ipykernel)",
   "language": "python",
   "name": "python3"
  },
  "language_info": {
   "codemirror_mode": {
    "name": "ipython",
    "version": 3
   },
   "file_extension": ".py",
   "mimetype": "text/x-python",
   "name": "python",
   "nbconvert_exporter": "python",
   "pygments_lexer": "ipython3",
   "version": "3.9.16"
  }
 },
 "nbformat": 4,
 "nbformat_minor": 4
}
